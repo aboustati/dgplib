{
 "cells": [
  {
   "cell_type": "markdown",
   "metadata": {},
   "source": [
    "# Simple Demo: Step Function\n",
    "This example is taken (with a bit of adaption) from [here](https://github.com/ICL-SML/Doubly-Stochastic-DGP/blob/master/demos/demo_1D_regression.ipynb). The example illustrate a deepGP fit for a step function. Normal GPs with stationary kernels usually fail at this task. We start with some imports."
   ]
  },
  {
   "cell_type": "code",
   "execution_count": 1,
   "metadata": {},
   "outputs": [
    {
     "name": "stderr",
     "output_type": "stream",
     "text": [
      "/home/aboustati/miniconda3/envs/gpflow-v1/lib/python3.6/importlib/_bootstrap.py:219: RuntimeWarning: compiletime version 3.5 of module 'tensorflow.python.framework.fast_tensor_util' does not match runtime version 3.6\n",
      "  return f(*args, **kwds)\n"
     ]
    }
   ],
   "source": [
    "# useful imports\n",
    "import numpy as np\n",
    "import tensorflow as tf\n",
    "\n",
    "import matplotlib.pyplot as plt\n",
    "%matplotlib inline"
   ]
  },
  {
   "cell_type": "code",
   "execution_count": 2,
   "metadata": {},
   "outputs": [],
   "source": [
    "# dgplib imports\n",
    "from dgplib.layers import InputLayer, OutputLayer, HiddenLayer\n",
    "from dgplib.multikernel_layers import MultikernelInputLayer\n",
    "from dgplib.models import Sequential\n",
    "\n",
    "from dgplib import DSDGP"
   ]
  },
  {
   "cell_type": "code",
   "execution_count": 3,
   "metadata": {},
   "outputs": [],
   "source": [
    "# gpflow imports\n",
    "import gpflow\n",
    "\n",
    "from gpflow.kernels import RBF, White, Matern52\n",
    "from gpflow.likelihoods import Gaussian\n",
    "from gpflow.mean_functions import Linear"
   ]
  },
  {
   "cell_type": "markdown",
   "metadata": {},
   "source": [
    "## Data\n",
    "We start of by generating the training and test data:"
   ]
  },
  {
   "cell_type": "code",
   "execution_count": 4,
   "metadata": {},
   "outputs": [
    {
     "data": {
      "image/png": "[encoded data removed]",
      "text/plain": [
       "<matplotlib.figure.Figure at 0x7f12702bc2b0>"
      ]
     },
     "metadata": {},
     "output_type": "display_data"
    },
    {
     "data": {
      "image/png": "[encoded data removed]",
      "text/plain": [
       "<matplotlib.figure.Figure at 0x7f1274e160b8>"
      ]
     },
     "metadata": {},
     "output_type": "display_data"
    }
   ],
   "source": [
    "Ns = 300\n",
    "Xs = np.linspace(-0.5, 1.5, Ns)[:, None]\n",
    "\n",
    "N, M = 50, 25\n",
    "X = np.random.uniform(0, 1, N)[:, None]\n",
    "Z = np.random.uniform(0, 1, M)[:, None]\n",
    "f_step = lambda x: 0. if x<0.5 else 1.\n",
    "Y1 = np.reshape([f_step(x) for x in X], X.shape) + np.random.randn(*X.shape)*1e-2\n",
    "Y2 = np.reshape([np.cos(4*x) for x in X], X.shape) + np.random.randn(*X.shape)*1e-2\n",
    "Y = np.hstack([Y1, Y2])\n",
    "\n",
    "def plot_data(X, Y):\n",
    "    plt.title('Sample Dataset')\n",
    "    plt.scatter(X, Y)\n",
    "    plt.show()\n",
    "    \n",
    "plot_data(X, Y1)\n",
    "plot_data(X, Y2)"
   ]
  },
  {
   "cell_type": "markdown",
   "metadata": {},
   "source": [
    "## Model Construction\n",
    "We move on to constructing the model. First we initialize the layers. In this example we are using a 2-layer DGP, an input layer and an output layer."
   ]
  },
  {
   "cell_type": "code",
   "execution_count": 9,
   "metadata": {},
   "outputs": [],
   "source": [
    "# Layers\n",
    "input_kernels = [RBF(1, lengthscales=0.2, variance=1.)+White(1, variance=1e-5),\n",
    "                 RBF(1, lengthscales=0.23, variance=1.1)+White(1, variance=1e-5)]\n",
    "input_layer = MultikernelInputLayer(input_dim=1,\n",
    "                         output_dim=2, \n",
    "                         num_inducing=M, \n",
    "                         kernel_list=input_kernels, \n",
    "                         mean_function=Linear(A=np.zeros((1,2))))\n",
    "\n",
    "input_layer.q_sqrt = input_layer.q_sqrt.value * 1e-5\n",
    "\n",
    "output_layer = OutputLayer(input_dim=2, \n",
    "                           output_dim=2, \n",
    "                           num_inducing=M,\n",
    "                           kernel=RBF(1, lengthscales=0.2, variance=1.)+White(1, variance=1e-5))"
   ]
  },
  {
   "cell_type": "markdown",
   "metadata": {},
   "source": [
    "Next, we wrap the layers around a `Sequential` object. This takes care of initializing the inducing inputs when fed into the model."
   ]
  },
  {
   "cell_type": "code",
   "execution_count": 10,
   "metadata": {},
   "outputs": [],
   "source": [
    "seq = Sequential([input_layer, output_layer])"
   ]
  },
  {
   "cell_type": "markdown",
   "metadata": {},
   "source": [
    "Finally, we create and compile a model object."
   ]
  },
  {
   "cell_type": "code",
   "execution_count": 11,
   "metadata": {},
   "outputs": [
    {
     "name": "stdout",
     "output_type": "stream",
     "text": [
      "Model Parameters Initialized\n"
     ]
    }
   ],
   "source": [
    "model = DSDGP(X=X, Y=Y, Z=Z, layers=seq, likelihood=Gaussian())"
   ]
  },
  {
   "cell_type": "code",
   "execution_count": 12,
   "metadata": {},
   "outputs": [
    {
     "name": "stdout",
     "output_type": "stream",
     "text": [
      "                                                        class prior transform  \\\n",
      "DSDGP/layers/layers/item0/kernel/item0/rbf/vari...  Parameter  None       +ve   \n",
      "DSDGP/layers/layers/item0/kernel/item0/rbf/leng...  Parameter  None       +ve   \n",
      "DSDGP/layers/layers/item0/kernel/item0/white/va...  Parameter  None       +ve   \n",
      "DSDGP/layers/layers/item0/kernel/item1/rbf/vari...  Parameter  None       +ve   \n",
      "DSDGP/layers/layers/item0/kernel/item1/rbf/leng...  Parameter  None       +ve   \n",
      "DSDGP/layers/layers/item0/kernel/item1/white/va...  Parameter  None       +ve   \n",
      "DSDGP/layers/layers/item0/mean_function/A           Parameter  None    (none)   \n",
      "DSDGP/layers/layers/item0/mean_function/b           Parameter  None    (none)   \n",
      "DSDGP/layers/layers/item0/q_mu                      Parameter  None    (none)   \n",
      "DSDGP/layers/layers/item0/q_sqrt                    Parameter  None    (none)   \n",
      "DSDGP/layers/layers/item0/Z/item0                   Parameter  None    (none)   \n",
      "DSDGP/layers/layers/item0/Z/item1                   Parameter  None    (none)   \n",
      "DSDGP/layers/layers/item1/Z                         Parameter  None    (none)   \n",
      "DSDGP/layers/layers/item1/kernel/rbf/variance       Parameter  None       +ve   \n",
      "DSDGP/layers/layers/item1/kernel/rbf/lengthscales   Parameter  None       +ve   \n",
      "DSDGP/layers/layers/item1/kernel/white/variance     Parameter  None       +ve   \n",
      "DSDGP/layers/layers/item1/q_mu                      Parameter  None    (none)   \n",
      "DSDGP/layers/layers/item1/q_sqrt                    Parameter  None    (none)   \n",
      "DSDGP/likelihood/variance                           Parameter  None       +ve   \n",
      "\n",
      "                                                    trainable        shape  \\\n",
      "DSDGP/layers/layers/item0/kernel/item0/rbf/vari...       True           ()   \n",
      "DSDGP/layers/layers/item0/kernel/item0/rbf/leng...       True           ()   \n",
      "DSDGP/layers/layers/item0/kernel/item0/white/va...       True           ()   \n",
      "DSDGP/layers/layers/item0/kernel/item1/rbf/vari...       True           ()   \n",
      "DSDGP/layers/layers/item0/kernel/item1/rbf/leng...       True           ()   \n",
      "DSDGP/layers/layers/item0/kernel/item1/white/va...       True           ()   \n",
      "DSDGP/layers/layers/item0/mean_function/A                True       (1, 2)   \n",
      "DSDGP/layers/layers/item0/mean_function/b                True         (1,)   \n",
      "DSDGP/layers/layers/item0/q_mu                           True      (25, 2)   \n",
      "DSDGP/layers/layers/item0/q_sqrt                         True  (2, 25, 25)   \n",
      "DSDGP/layers/layers/item0/Z/item0                        True      (25, 1)   \n",
      "DSDGP/layers/layers/item0/Z/item1                        True      (25, 1)   \n",
      "DSDGP/layers/layers/item1/Z                              True      (25, 2)   \n",
      "DSDGP/layers/layers/item1/kernel/rbf/variance            True           ()   \n",
      "DSDGP/layers/layers/item1/kernel/rbf/lengthscales        True           ()   \n",
      "DSDGP/layers/layers/item1/kernel/white/variance          True           ()   \n",
      "DSDGP/layers/layers/item1/q_mu                           True      (25, 2)   \n",
      "DSDGP/layers/layers/item1/q_sqrt                         True  (2, 25, 25)   \n",
      "DSDGP/likelihood/variance                                True           ()   \n",
      "\n",
      "                                                    fixed_shape  \\\n",
      "DSDGP/layers/layers/item0/kernel/item0/rbf/vari...         True   \n",
      "DSDGP/layers/layers/item0/kernel/item0/rbf/leng...         True   \n",
      "DSDGP/layers/layers/item0/kernel/item0/white/va...         True   \n",
      "DSDGP/layers/layers/item0/kernel/item1/rbf/vari...         True   \n",
      "DSDGP/layers/layers/item0/kernel/item1/rbf/leng...         True   \n",
      "DSDGP/layers/layers/item0/kernel/item1/white/va...         True   \n",
      "DSDGP/layers/layers/item0/mean_function/A                  True   \n",
      "DSDGP/layers/layers/item0/mean_function/b                  True   \n",
      "DSDGP/layers/layers/item0/q_mu                             True   \n",
      "DSDGP/layers/layers/item0/q_sqrt                           True   \n",
      "DSDGP/layers/layers/item0/Z/item0                          True   \n",
      "DSDGP/layers/layers/item0/Z/item1                          True   \n",
      "DSDGP/layers/layers/item1/Z                                True   \n",
      "DSDGP/layers/layers/item1/kernel/rbf/variance              True   \n",
      "DSDGP/layers/layers/item1/kernel/rbf/lengthscales          True   \n",
      "DSDGP/layers/layers/item1/kernel/white/variance            True   \n",
      "DSDGP/layers/layers/item1/q_mu                             True   \n",
      "DSDGP/layers/layers/item1/q_sqrt                           True   \n",
      "DSDGP/likelihood/variance                                  True   \n",
      "\n",
      "                                                                                                value  \n",
      "DSDGP/layers/layers/item0/kernel/item0/rbf/vari...                                                1.0  \n",
      "DSDGP/layers/layers/item0/kernel/item0/rbf/leng...                                                0.2  \n",
      "DSDGP/layers/layers/item0/kernel/item0/white/va...                                              1e-05  \n",
      "DSDGP/layers/layers/item0/kernel/item1/rbf/vari...                                                1.1  \n",
      "DSDGP/layers/layers/item0/kernel/item1/rbf/leng...                                               0.23  \n",
      "DSDGP/layers/layers/item0/kernel/item1/white/va...                                              1e-05  \n",
      "DSDGP/layers/layers/item0/mean_function/A                                                [[1.0, 0.0]]  \n",
      "DSDGP/layers/layers/item0/mean_function/b                                                       [0.0]  \n",
      "DSDGP/layers/layers/item0/q_mu                      [[0.0, 0.0], [0.0, 0.0], [0.0, 0.0], [0.0, 0.0...  \n",
      "DSDGP/layers/layers/item0/q_sqrt                    [[[1e-05, 0.0, 0.0, 0.0, 0.0, 0.0, 0.0, 0.0, 0...  \n",
      "DSDGP/layers/layers/item0/Z/item0                   [[0.5948413798986442], [0.13945092870009101], ...  \n",
      "DSDGP/layers/layers/item0/Z/item1                   [[0.5948413798986442], [0.13945092870009101], ...  \n",
      "DSDGP/layers/layers/item1/Z                         [[0.5948413798986442, 0.0], [0.139450928700091...  \n",
      "DSDGP/layers/layers/item1/kernel/rbf/variance                                                     1.0  \n",
      "DSDGP/layers/layers/item1/kernel/rbf/lengthscales                                                 0.2  \n",
      "DSDGP/layers/layers/item1/kernel/white/variance                                                 1e-05  \n",
      "DSDGP/layers/layers/item1/q_mu                      [[0.0, 0.0], [0.0, 0.0], [0.0, 0.0], [0.0, 0.0...  \n",
      "DSDGP/layers/layers/item1/q_sqrt                    [[[1.0, 0.0, 0.0, 0.0, 0.0, 0.0, 0.0, 0.0, 0.0...  \n",
      "DSDGP/likelihood/variance                                                                         1.0  \n"
     ]
    }
   ],
   "source": [
    "print(model)"
   ]
  },
  {
   "cell_type": "code",
   "execution_count": 13,
   "metadata": {},
   "outputs": [],
   "source": [
    "model.compile()"
   ]
  },
  {
   "cell_type": "markdown",
   "metadata": {},
   "source": [
    "## Training\n",
    "We train the model by maximising the variational lower bound on the log marginal likelihood. We use the Adam optimiser packaged with `GPflow` for this task."
   ]
  },
  {
   "cell_type": "code",
   "execution_count": 14,
   "metadata": {},
   "outputs": [
    {
     "data": {
      "text/plain": [
       "-711.4981811794148"
      ]
     },
     "execution_count": 14,
     "metadata": {},
     "output_type": "execute_result"
    }
   ],
   "source": [
    "model.compute_log_likelihood()"
   ]
  },
  {
   "cell_type": "code",
   "execution_count": 15,
   "metadata": {},
   "outputs": [],
   "source": [
    "opt = gpflow.train.AdamOptimizer(0.01)\n",
    "opt.minimize(model, maxiter=1000)"
   ]
  },
  {
   "cell_type": "code",
   "execution_count": 16,
   "metadata": {},
   "outputs": [
    {
     "data": {
      "text/plain": [
       "4.136534479861609"
      ]
     },
     "execution_count": 16,
     "metadata": {},
     "output_type": "execute_result"
    }
   ],
   "source": [
    "model.compute_log_likelihood()"
   ]
  },
  {
   "cell_type": "markdown",
   "metadata": {},
   "source": [
    "We can see that the bound on log marginal likelihood has increased."
   ]
  },
  {
   "cell_type": "markdown",
   "metadata": {},
   "source": [
    "## Testing\n",
    "We now test our model."
   ]
  },
  {
   "cell_type": "code",
   "execution_count": 20,
   "metadata": {},
   "outputs": [
    {
     "name": "stderr",
     "output_type": "stream",
     "text": [
      "/home/aboustati/miniconda3/envs/gpflow-v1/lib/python3.6/site-packages/matplotlib/cbook/deprecation.py:106: MatplotlibDeprecationWarning: Adding an axes using the same arguments as a previous axes currently reuses the earlier instance.  In a future version, a new instance will always be created and returned.  Meanwhile, this warning can be suppressed, and the future behavior ensured, by passing a unique label to each axes instance.\n",
      "  warnings.warn(message, mplDeprecation, stacklevel=1)\n"
     ]
    },
    {
     "data": {
      "image/png": "[encoded data removed]",
      "text/plain": [
       "<matplotlib.figure.Figure at 0x7f122b0d3a58>"
      ]
     },
     "metadata": {},
     "output_type": "display_data"
    }
   ],
   "source": [
    "plt.figure()\n",
    "for _ in range(10):\n",
    "    mu, sigma = model.predict_f_full_cov(Xs, 1)\n",
    "    plt.subplot(211)\n",
    "    plt.plot(Xs, mu[:,:,0].reshape(Xs.shape), color='r', alpha=0.3)\n",
    "    plt.subplot(212)\n",
    "    plt.plot(Xs, mu[:,:,1].reshape(Xs.shape), color='r', alpha=0.3)\n",
    "    \n",
    "plt.subplot(211)\n",
    "plt.scatter(X, Y1);\n",
    "plt.subplot(212)\n",
    "plt.scatter(X, Y2);"
   ]
  }
 ],
 "metadata": {
  "kernelspec": {
   "display_name": "Python 3",
   "language": "python",
   "name": "python3"
  },
  "language_info": {
   "codemirror_mode": {
    "name": "ipython",
    "version": 3
   },
   "file_extension": ".py",
   "mimetype": "text/x-python",
   "name": "python",
   "nbconvert_exporter": "python",
   "pygments_lexer": "ipython3",
   "version": "3.6.4"
  }
 },
 "nbformat": 4,
 "nbformat_minor": 2
}
