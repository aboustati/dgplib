{
 "cells": [
  {
   "cell_type": "markdown",
   "metadata": {},
   "source": [
    "# Simple Demo: Step Function\n",
    "This example is taken (with a bit of adaption) from [here](https://github.com/ICL-SML/Doubly-Stochastic-DGP/blob/master/demos/demo_1D_regression.ipynb). The example illustrate a deepGP fit for a step function. Normal GPs with stationary kernels usually fail at this task. We start with some imports."
   ]
  },
  {
   "cell_type": "code",
   "execution_count": 1,
   "metadata": {},
   "outputs": [],
   "source": [
    "# useful imports\n",
    "import numpy as np\n",
    "import tensorflow as tf\n",
    "\n",
    "import matplotlib.pyplot as plt\n",
    "%matplotlib inline"
   ]
  },
  {
   "cell_type": "code",
   "execution_count": 2,
   "metadata": {},
   "outputs": [],
   "source": [
    "# dgplib imports\n",
    "from dgplib.layers import Layer\n",
    "from dgplib.cascade import Sequential\n",
    "from dgplib.utilities import print_summary\n",
    "\n",
    "from dgplib import DSDGP"
   ]
  },
  {
   "cell_type": "code",
   "execution_count": 3,
   "metadata": {},
   "outputs": [],
   "source": [
    "# gpflow imports\n",
    "import gpflow\n",
    "\n",
    "from gpflow.kernels import RBF, White, Matern52\n",
    "from gpflow.likelihoods import Gaussian\n",
    "from gpflow.mean_functions import Linear\n",
    "from gpflow.utilities import set_trainable\n",
    "\n",
    "gpflow.config.set_summary_fmt(\"notebook\")\n",
    "gpflow.config.set_default_float(np.float64)"
   ]
  },
  {
   "cell_type": "markdown",
   "metadata": {},
   "source": [
    "## Data\n",
    "We start of by generating the training and test data:"
   ]
  },
  {
   "cell_type": "code",
   "execution_count": 4,
   "metadata": {},
   "outputs": [
    {
     "data": {
      "image/png": "[encoded data removed]",
      "text/plain": [
       "<Figure size 432x288 with 1 Axes>"
      ]
     },
     "metadata": {
      "needs_background": "light"
     },
     "output_type": "display_data"
    }
   ],
   "source": [
    "Ns = 300\n",
    "Xs = np.linspace(-0.5, 1.5, Ns)[:, None]\n",
    "\n",
    "N, M = 50, 25\n",
    "X = np.random.uniform(0, 1, N)[:, None]\n",
    "Z = np.random.uniform(0, 1, M)[:, None]\n",
    "f_step = lambda x: 0. if x<0.5 else 1.\n",
    "Y = np.reshape([f_step(x) for x in X], X.shape) + np.random.randn(*X.shape)*1e-2\n",
    "\n",
    "def plot_data(X, Y):\n",
    "    plt.title('Sample Dataset')\n",
    "    plt.scatter(X, Y)\n",
    "    plt.show()\n",
    "    \n",
    "plot_data(X, Y)"
   ]
  },
  {
   "cell_type": "markdown",
   "metadata": {},
   "source": [
    "## Model Construction\n",
    "We move on to constructing the model. First we initialize the layers. In this example we are using a 2-layer DGP, an input layer and an output layer."
   ]
  },
  {
   "cell_type": "code",
   "execution_count": 5,
   "metadata": {},
   "outputs": [],
   "source": [
    "# Layers\n",
    "def make_kernel(lengthscale, variance):\n",
    "    kernel = gpflow.kernels.mo_kernels.SharedIndependentMok(\n",
    "        RBF(variance=variance, lengthscale=lengthscale) + White(variance=1e-5),\n",
    "        output_dimensionality=1\n",
    "    )\n",
    "    return kernel\n",
    "\n",
    "input_layer = Layer(\n",
    "    input_dim=1,\n",
    "    output_dim=1, \n",
    "    kernel=make_kernel(lengthscale=0.2, variance=1.),\n",
    "    num_inducing=M,\n",
    "    fixed_linear_mean_function=True\n",
    ")\n",
    "\n",
    "input_layer.q_sqrt.assign(input_layer.q_sqrt * 1e-5)\n",
    "\n",
    "output_layer = Layer(\n",
    "    input_dim=1, \n",
    "    output_dim=1,\n",
    "    kernel=make_kernel(lengthscale=0.2, variance=1.),\n",
    "    num_inducing=M\n",
    ")"
   ]
  },
  {
   "cell_type": "markdown",
   "metadata": {},
   "source": [
    "Next, we wrap the layers around a `Sequential` object. This takes care of initializing the inducing inputs when fed into the model."
   ]
  },
  {
   "cell_type": "code",
   "execution_count": 6,
   "metadata": {},
   "outputs": [],
   "source": [
    "seq = Sequential([input_layer, output_layer])"
   ]
  },
  {
   "cell_type": "markdown",
   "metadata": {},
   "source": [
    "Finally, we create and compile a model object."
   ]
  },
  {
   "cell_type": "code",
   "execution_count": 7,
   "metadata": {},
   "outputs": [],
   "source": [
    "model = DSDGP(Z=Z, layers=seq, likelihood=Gaussian())"
   ]
  },
  {
   "cell_type": "code",
   "execution_count": 8,
   "metadata": {},
   "outputs": [
    {
     "data": {
      "text/html": [
       "<table>\n",
       "<thead>\n",
       "<tr><th>name                                                             </th><th>class    </th><th>transform     </th><th>trainable  </th><th>shape      </th><th>dtype  </th><th>value                       </th></tr>\n",
       "</thead>\n",
       "<tbody>\n",
       "<tr><td>DSDGP.likelihood.variance                                        </td><td>Parameter</td><td>Softplus      </td><td>True       </td><td>()         </td><td>float64</td><td>1.0                         </td></tr>\n",
       "<tr><td>DSDGP.layers.constituents[0].kernel.kernel.kernels[0].variance   </td><td>Parameter</td><td>Softplus      </td><td>True       </td><td>()         </td><td>float64</td><td>1.0                         </td></tr>\n",
       "<tr><td>DSDGP.layers.constituents[0].kernel.kernel.kernels[0].lengthscale</td><td>Parameter</td><td>Softplus      </td><td>True       </td><td>()         </td><td>float64</td><td>0.20000000298023218         </td></tr>\n",
       "<tr><td>DSDGP.layers.constituents[0].kernel.kernel.kernels[1].variance   </td><td>Parameter</td><td>Softplus      </td><td>True       </td><td>()         </td><td>float64</td><td>9.999999747440792e-06       </td></tr>\n",
       "<tr><td>DSDGP.layers.constituents[0].mean_function.A                     </td><td>Parameter</td><td>              </td><td>True       </td><td>(1, 1)     </td><td>float64</td><td>[[1.]]                      </td></tr>\n",
       "<tr><td>DSDGP.layers.constituents[0].mean_function.b                     </td><td>Parameter</td><td>              </td><td>True       </td><td>(1,)       </td><td>float64</td><td>[0.]                        </td></tr>\n",
       "<tr><td>DSDGP.layers.constituents[0].q_mu                                </td><td>Parameter</td><td>              </td><td>True       </td><td>(25, 1)    </td><td>float64</td><td>[[0....                     </td></tr>\n",
       "<tr><td>DSDGP.layers.constituents[0].q_sqrt                              </td><td>Parameter</td><td>FillTriangular</td><td>True       </td><td>(1, 25, 25)</td><td>float64</td><td>[[[1.e-05, 0.e+00, 0.e+00...</td></tr>\n",
       "<tr><td>DSDGP.layers.constituents[1].kernel.kernel.kernels[0].variance   </td><td>Parameter</td><td>Softplus      </td><td>True       </td><td>()         </td><td>float64</td><td>1.0                         </td></tr>\n",
       "<tr><td>DSDGP.layers.constituents[1].kernel.kernel.kernels[0].lengthscale</td><td>Parameter</td><td>Softplus      </td><td>True       </td><td>()         </td><td>float64</td><td>0.20000000298023218         </td></tr>\n",
       "<tr><td>DSDGP.layers.constituents[1].kernel.kernel.kernels[1].variance   </td><td>Parameter</td><td>Softplus      </td><td>True       </td><td>()         </td><td>float64</td><td>9.999999747440792e-06       </td></tr>\n",
       "<tr><td>DSDGP.layers.constituents[1].q_mu                                </td><td>Parameter</td><td>              </td><td>True       </td><td>(25, 1)    </td><td>float64</td><td>[[0....                     </td></tr>\n",
       "<tr><td>DSDGP.layers.constituents[1].q_sqrt                              </td><td>Parameter</td><td>FillTriangular</td><td>True       </td><td>(1, 25, 25)</td><td>float64</td><td>[[[1., 0., 0....            </td></tr>\n",
       "</tbody>\n",
       "</table>"
      ],
      "text/plain": [
       "<IPython.core.display.HTML object>"
      ]
     },
     "metadata": {},
     "output_type": "display_data"
    }
   ],
   "source": [
    "print_summary(model)"
   ]
  },
  {
   "cell_type": "code",
   "execution_count": 9,
   "metadata": {},
   "outputs": [
    {
     "name": "stdout",
     "output_type": "stream",
     "text": [
      "Model Parameters Initialized\n"
     ]
    }
   ],
   "source": [
    "model.initialize_layers_from_data(X)"
   ]
  },
  {
   "cell_type": "code",
   "execution_count": 10,
   "metadata": {},
   "outputs": [
    {
     "data": {
      "text/html": [
       "<table>\n",
       "<thead>\n",
       "<tr><th>name                                                             </th><th>class    </th><th>transform     </th><th>trainable  </th><th>shape      </th><th>dtype  </th><th>value                       </th></tr>\n",
       "</thead>\n",
       "<tbody>\n",
       "<tr><td>DSDGP.likelihood.variance                                        </td><td>Parameter</td><td>Softplus      </td><td>True       </td><td>()         </td><td>float64</td><td>1.0                         </td></tr>\n",
       "<tr><td>DSDGP.layers.constituents[0].feature.features[0].Z               </td><td>Parameter</td><td>              </td><td>True       </td><td>(25, 1)    </td><td>float64</td><td>[[0.80317946...             </td></tr>\n",
       "<tr><td>DSDGP.layers.constituents[0].kernel.kernel.kernels[0].variance   </td><td>Parameter</td><td>Softplus      </td><td>True       </td><td>()         </td><td>float64</td><td>1.0                         </td></tr>\n",
       "<tr><td>DSDGP.layers.constituents[0].kernel.kernel.kernels[0].lengthscale</td><td>Parameter</td><td>Softplus      </td><td>True       </td><td>()         </td><td>float64</td><td>0.20000000298023218         </td></tr>\n",
       "<tr><td>DSDGP.layers.constituents[0].kernel.kernel.kernels[1].variance   </td><td>Parameter</td><td>Softplus      </td><td>True       </td><td>()         </td><td>float64</td><td>9.999999747440792e-06       </td></tr>\n",
       "<tr><td>DSDGP.layers.constituents[0].mean_function.A                     </td><td>Parameter</td><td>              </td><td>False      </td><td>(1, 1)     </td><td>float64</td><td>[[1.]]                      </td></tr>\n",
       "<tr><td>DSDGP.layers.constituents[0].mean_function.b                     </td><td>Parameter</td><td>              </td><td>False      </td><td>(1,)       </td><td>float64</td><td>[0.]                        </td></tr>\n",
       "<tr><td>DSDGP.layers.constituents[0].q_mu                                </td><td>Parameter</td><td>              </td><td>True       </td><td>(25, 1)    </td><td>float64</td><td>[[0....                     </td></tr>\n",
       "<tr><td>DSDGP.layers.constituents[0].q_sqrt                              </td><td>Parameter</td><td>FillTriangular</td><td>True       </td><td>(1, 25, 25)</td><td>float64</td><td>[[[1.e-05, 0.e+00, 0.e+00...</td></tr>\n",
       "<tr><td>DSDGP.layers.constituents[1].feature.features[0].Z               </td><td>Parameter</td><td>              </td><td>True       </td><td>(25, 1)    </td><td>float64</td><td>[[0.80317946...             </td></tr>\n",
       "<tr><td>DSDGP.layers.constituents[1].kernel.kernel.kernels[0].variance   </td><td>Parameter</td><td>Softplus      </td><td>True       </td><td>()         </td><td>float64</td><td>1.0                         </td></tr>\n",
       "<tr><td>DSDGP.layers.constituents[1].kernel.kernel.kernels[0].lengthscale</td><td>Parameter</td><td>Softplus      </td><td>True       </td><td>()         </td><td>float64</td><td>0.20000000298023218         </td></tr>\n",
       "<tr><td>DSDGP.layers.constituents[1].kernel.kernel.kernels[1].variance   </td><td>Parameter</td><td>Softplus      </td><td>True       </td><td>()         </td><td>float64</td><td>9.999999747440792e-06       </td></tr>\n",
       "<tr><td>DSDGP.layers.constituents[1].q_mu                                </td><td>Parameter</td><td>              </td><td>True       </td><td>(25, 1)    </td><td>float64</td><td>[[0....                     </td></tr>\n",
       "<tr><td>DSDGP.layers.constituents[1].q_sqrt                              </td><td>Parameter</td><td>FillTriangular</td><td>True       </td><td>(1, 25, 25)</td><td>float64</td><td>[[[1., 0., 0....            </td></tr>\n",
       "</tbody>\n",
       "</table>"
      ],
      "text/plain": [
       "<IPython.core.display.HTML object>"
      ]
     },
     "metadata": {},
     "output_type": "display_data"
    }
   ],
   "source": [
    "print_summary(model)"
   ]
  },
  {
   "cell_type": "markdown",
   "metadata": {},
   "source": [
    "## Training\n",
    "We train the model by maximising the variational lower bound on the log marginal likelihood. We use the Adam optimiser packaged with `GPflow` for this task."
   ]
  },
  {
   "cell_type": "code",
   "execution_count": 11,
   "metadata": {},
   "outputs": [
    {
     "data": {
      "text/plain": [
       "<tf.Tensor: id=1181, shape=(), dtype=float64, numpy=-360.332112546888>"
      ]
     },
     "execution_count": 11,
     "metadata": {},
     "output_type": "execute_result"
    }
   ],
   "source": [
    "model.log_likelihood(X, Y, 1)"
   ]
  },
  {
   "cell_type": "code",
   "execution_count": 12,
   "metadata": {},
   "outputs": [
    {
     "data": {
      "image/png": "[encoded data removed]",
      "text/plain": [
       "<Figure size 432x288 with 1 Axes>"
      ]
     },
     "metadata": {
      "needs_background": "light"
     },
     "output_type": "display_data"
    }
   ],
   "source": [
    "samples, mu, sigma = model.predict_all_layers(Xs, 10)\n",
    "plt.plot(Xs, mu[-1][:, :, 0].numpy().T, color='r', alpha=0.3)\n",
    "\n",
    "plt.title('2 layer DGP - no training')\n",
    "plt.scatter(X, Y)\n",
    "plt.show()"
   ]
  },
  {
   "cell_type": "code",
   "execution_count": 13,
   "metadata": {},
   "outputs": [],
   "source": [
    "def log_likelihood_callback():\n",
    "    return model.neg_log_marginal_likelihood(X, Y, num_samples=1)"
   ]
  },
  {
   "cell_type": "code",
   "execution_count": 14,
   "metadata": {},
   "outputs": [
    {
     "name": "stderr",
     "output_type": "stream",
     "text": [
      "WARNING: Logging before flag parsing goes to stderr.\n",
      "W0806 11:47:55.925436 140433457448768 deprecation.py:323] From /home/ayman/anaconda3/envs/multitask-gpflow-2.0a0/lib/python3.7/site-packages/tensorflow_core/python/keras/optimizer_v2/optimizer_v2.py:468: BaseResourceVariable.constraint (from tensorflow.python.ops.resource_variable_ops) is deprecated and will be removed in a future version.\n",
      "Instructions for updating:\n",
      "Apply a constraint manually following the optimizer update step.\n"
     ]
    }
   ],
   "source": [
    "opt = tf.optimizers.Adam(learning_rate=1e-2)\n",
    "gpflow.utilities.training_loop(log_likelihood_callback, opt, model.trainable_variables, maxiter=1e3)"
   ]
  },
  {
   "cell_type": "code",
   "execution_count": 15,
   "metadata": {},
   "outputs": [
    {
     "data": {
      "text/plain": [
       "<tf.Tensor: id=2069844, shape=(), dtype=float64, numpy=-88.80240980101033>"
      ]
     },
     "execution_count": 15,
     "metadata": {},
     "output_type": "execute_result"
    }
   ],
   "source": [
    "model.log_likelihood(X, Y, 1)"
   ]
  },
  {
   "cell_type": "markdown",
   "metadata": {},
   "source": [
    "We can see that the bound on log marginal likelihood has increased."
   ]
  },
  {
   "cell_type": "markdown",
   "metadata": {},
   "source": [
    "## Testing\n",
    "We now test our model."
   ]
  },
  {
   "cell_type": "code",
   "execution_count": 16,
   "metadata": {},
   "outputs": [
    {
     "data": {
      "image/png": "[encoded data removed]",
      "text/plain": [
       "<Figure size 432x288 with 1 Axes>"
      ]
     },
     "metadata": {
      "needs_background": "light"
     },
     "output_type": "display_data"
    }
   ],
   "source": [
    "samples, mu, sigma = model.predict_all_layers(Xs, 10)\n",
    "plt.plot(Xs, mu[-1][:, :, 0].numpy().T, color='r', alpha=0.3)\n",
    "\n",
    "plt.title('2 layer DGP')\n",
    "plt.scatter(X, Y)\n",
    "plt.show()"
   ]
  },
  {
   "cell_type": "code",
   "execution_count": 17,
   "metadata": {},
   "outputs": [
    {
     "data": {
      "text/html": [
       "<table>\n",
       "<thead>\n",
       "<tr><th>name                                                             </th><th>class    </th><th>transform     </th><th>trainable  </th><th>shape      </th><th>dtype  </th><th>value                                               </th></tr>\n",
       "</thead>\n",
       "<tbody>\n",
       "<tr><td>DSDGP.likelihood.variance                                        </td><td>Parameter</td><td>Softplus      </td><td>True       </td><td>()         </td><td>float64</td><td>0.006854127495012341                                </td></tr>\n",
       "<tr><td>DSDGP.layers.constituents[0].feature.features[0].Z               </td><td>Parameter</td><td>              </td><td>True       </td><td>(25, 1)    </td><td>float64</td><td>[[0.53438085...                                     </td></tr>\n",
       "<tr><td>DSDGP.layers.constituents[0].kernel.kernel.kernels[0].variance   </td><td>Parameter</td><td>Softplus      </td><td>True       </td><td>()         </td><td>float64</td><td>2.3178562085177483                                  </td></tr>\n",
       "<tr><td>DSDGP.layers.constituents[0].kernel.kernel.kernels[0].lengthscale</td><td>Parameter</td><td>Softplus      </td><td>True       </td><td>()         </td><td>float64</td><td>0.074805597033129                                   </td></tr>\n",
       "<tr><td>DSDGP.layers.constituents[0].kernel.kernel.kernels[1].variance   </td><td>Parameter</td><td>Softplus      </td><td>True       </td><td>()         </td><td>float64</td><td>0.0019556729363524967                               </td></tr>\n",
       "<tr><td>DSDGP.layers.constituents[0].mean_function.A                     </td><td>Parameter</td><td>              </td><td>False      </td><td>(1, 1)     </td><td>float64</td><td>[[1.]]                                              </td></tr>\n",
       "<tr><td>DSDGP.layers.constituents[0].mean_function.b                     </td><td>Parameter</td><td>              </td><td>False      </td><td>(1,)       </td><td>float64</td><td>[0.]                                                </td></tr>\n",
       "<tr><td>DSDGP.layers.constituents[0].q_mu                                </td><td>Parameter</td><td>              </td><td>True       </td><td>(25, 1)    </td><td>float64</td><td>[[0.67832899...                                     </td></tr>\n",
       "<tr><td>DSDGP.layers.constituents[0].q_sqrt                              </td><td>Parameter</td><td>FillTriangular</td><td>True       </td><td>(1, 25, 25)</td><td>float64</td><td>[[[7.34741818e-02, 0.00000000e+00, 0.00000000e+00...</td></tr>\n",
       "<tr><td>DSDGP.layers.constituents[1].feature.features[0].Z               </td><td>Parameter</td><td>              </td><td>True       </td><td>(25, 1)    </td><td>float64</td><td>[[0.30371699...                                     </td></tr>\n",
       "<tr><td>DSDGP.layers.constituents[1].kernel.kernel.kernels[0].variance   </td><td>Parameter</td><td>Softplus      </td><td>True       </td><td>()         </td><td>float64</td><td>0.593223205311789                                   </td></tr>\n",
       "<tr><td>DSDGP.layers.constituents[1].kernel.kernel.kernels[0].lengthscale</td><td>Parameter</td><td>Softplus      </td><td>True       </td><td>()         </td><td>float64</td><td>0.93654088597221                                    </td></tr>\n",
       "<tr><td>DSDGP.layers.constituents[1].kernel.kernel.kernels[1].variance   </td><td>Parameter</td><td>Softplus      </td><td>True       </td><td>()         </td><td>float64</td><td>0.00019301598179625513                              </td></tr>\n",
       "<tr><td>DSDGP.layers.constituents[1].q_mu                                </td><td>Parameter</td><td>              </td><td>True       </td><td>(25, 1)    </td><td>float64</td><td>[[0.54730136...                                     </td></tr>\n",
       "<tr><td>DSDGP.layers.constituents[1].q_sqrt                              </td><td>Parameter</td><td>FillTriangular</td><td>True       </td><td>(1, 25, 25)</td><td>float64</td><td>[[[5.47589359e-02, 0.00000000e+00, 0.00000000e+00...</td></tr>\n",
       "</tbody>\n",
       "</table>"
      ],
      "text/plain": [
       "<IPython.core.display.HTML object>"
      ]
     },
     "metadata": {},
     "output_type": "display_data"
    }
   ],
   "source": [
    "print_summary(model)"
   ]
  }
 ],
 "metadata": {
  "kernelspec": {
   "display_name": "Python 3",
   "language": "python",
   "name": "python3"
  },
  "language_info": {
   "codemirror_mode": {
    "name": "ipython",
    "version": 3
   },
   "file_extension": ".py",
   "mimetype": "text/x-python",
   "name": "python",
   "nbconvert_exporter": "python",
   "pygments_lexer": "ipython3",
   "version": "3.7.3"
  }
 },
 "nbformat": 4,
 "nbformat_minor": 4
}
