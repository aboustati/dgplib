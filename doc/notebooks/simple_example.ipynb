{
 "cells": [
  {
   "cell_type": "markdown",
   "metadata": {},
   "source": [
    "# Simple Demo: Step Function\n",
    "This example is taken (with a bit of adaption) from [here](https://github.com/ICL-SML/Doubly-Stochastic-DGP/blob/master/demos/demo_1D_regression.ipynb). The example illustrate a deepGP fit for a step function. Normal GPs with stationary kernels usually fail at this task. We start with some imports."
   ]
  },
  {
   "cell_type": "code",
   "execution_count": 1,
   "metadata": {},
   "outputs": [],
   "source": [
    "# useful imports\n",
    "import numpy as np\n",
    "import tensorflow as tf\n",
    "\n",
    "import matplotlib.pyplot as plt\n",
    "%matplotlib inline"
   ]
  },
  {
   "cell_type": "code",
   "execution_count": 2,
   "metadata": {},
   "outputs": [],
   "source": [
    "# dgplib imports\n",
    "from dgplib.layers import Layer\n",
    "from dgplib.cascade import Sequential\n",
    "\n",
    "from dgplib import DSDGP"
   ]
  },
  {
   "cell_type": "code",
   "execution_count": 3,
   "metadata": {},
   "outputs": [],
   "source": [
    "# gpflow imports\n",
    "import gpflow\n",
    "\n",
    "from gpflow.kernels import RBF, White, Matern52\n",
    "from gpflow.likelihoods import Gaussian\n",
    "from gpflow.mean_functions import Linear\n",
    "from gpflow.utilities import set_trainable, print_summary\n",
    "\n",
    "gpflow.config.set_summary_fmt(\"notebook\")"
   ]
  },
  {
   "cell_type": "markdown",
   "metadata": {},
   "source": [
    "## Data\n",
    "We start of by generating the training and test data:"
   ]
  },
  {
   "cell_type": "code",
   "execution_count": 4,
   "metadata": {},
   "outputs": [
    {
     "data": {
      "image/png": "[encoded data removed]",
      "text/plain": [
       "<Figure size 432x288 with 1 Axes>"
      ]
     },
     "metadata": {
      "needs_background": "light"
     },
     "output_type": "display_data"
    }
   ],
   "source": [
    "Ns = 300\n",
    "Xs = np.linspace(-0.5, 1.5, Ns)[:, None]\n",
    "\n",
    "N, M = 50, 25\n",
    "X = np.random.uniform(0, 1, N)[:, None]\n",
    "Z = np.random.uniform(0, 1, M)[:, None]\n",
    "f_step = lambda x: 0. if x<0.5 else 1.\n",
    "Y = np.reshape([f_step(x) for x in X], X.shape) + np.random.randn(*X.shape)*1e-2\n",
    "\n",
    "def plot_data(X, Y):\n",
    "    plt.title('Sample Dataset')\n",
    "    plt.scatter(X, Y)\n",
    "    plt.show()\n",
    "    \n",
    "plot_data(X, Y)"
   ]
  },
  {
   "cell_type": "markdown",
   "metadata": {},
   "source": [
    "## Model Construction\n",
    "We move on to constructing the model. First we initialize the layers. In this example we are using a 2-layer DGP, an input layer and an output layer."
   ]
  },
  {
   "cell_type": "code",
   "execution_count": 5,
   "metadata": {},
   "outputs": [
    {
     "name": "stderr",
     "output_type": "stream",
     "text": [
      "WARNING: Logging before flag parsing goes to stderr.\n",
      "W0723 13:57:01.752855 139838450616128 deprecation.py:323] From /home/ayman/anaconda3/envs/multitask-gpflow-2.0/lib/python3.7/site-packages/tensorflow_probability/python/internal/distribution_util.py:1846: add_dispatch_support.<locals>.wrapper (from tensorflow.python.ops.array_ops) is deprecated and will be removed in a future version.\n",
      "Instructions for updating:\n",
      "Use tf.where in 2.0, which has the same broadcast rule as np.where\n"
     ]
    }
   ],
   "source": [
    "# Layers\n",
    "input_layer = Layer(\n",
    "    input_dim=1,\n",
    "    output_dim=1, \n",
    "    kernel=RBF(lengthscale=0.2, variance=1.) + White(variance=1e-5), \n",
    "    num_inducing=M,\n",
    "    mean_function=Linear()\n",
    ")\n",
    "\n",
    "input_layer.q_sqrt.assign(input_layer.q_sqrt * 1e-5)\n",
    "\n",
    "output_layer = Layer(\n",
    "    input_dim=1, \n",
    "    output_dim=1,\n",
    "    kernel=RBF(lengthscale=0.2, variance=1.) + White(variance=1e-5),\n",
    "    num_inducing=M\n",
    ")"
   ]
  },
  {
   "cell_type": "markdown",
   "metadata": {},
   "source": [
    "Next, we wrap the layers around a `Sequential` object. This takes care of initializing the inducing inputs when fed into the model."
   ]
  },
  {
   "cell_type": "code",
   "execution_count": 6,
   "metadata": {},
   "outputs": [],
   "source": [
    "seq = Sequential([input_layer, output_layer])"
   ]
  },
  {
   "cell_type": "markdown",
   "metadata": {},
   "source": [
    "Finally, we create and compile a model object."
   ]
  },
  {
   "cell_type": "code",
   "execution_count": 7,
   "metadata": {},
   "outputs": [],
   "source": [
    "model = DSDGP(Z=Z, layers=seq, likelihood=Gaussian())"
   ]
  },
  {
   "cell_type": "code",
   "execution_count": 8,
   "metadata": {},
   "outputs": [
    {
     "data": {
      "text/html": [
       "<table>\n",
       "<thead>\n",
       "<tr><th>name                     </th><th>class    </th><th>transform  </th><th>trainable  </th><th>shape  </th><th>dtype  </th><th style=\"text-align: right;\">  value</th></tr>\n",
       "</thead>\n",
       "<tbody>\n",
       "<tr><td>DSDGP.likelihood.variance</td><td>Parameter</td><td>Softplus   </td><td>True       </td><td>()     </td><td>float32</td><td style=\"text-align: right;\">      1</td></tr>\n",
       "</tbody>\n",
       "</table>"
      ],
      "text/plain": [
       "<IPython.core.display.HTML object>"
      ]
     },
     "metadata": {},
     "output_type": "display_data"
    }
   ],
   "source": [
    "print_summary(model)"
   ]
  },
  {
   "cell_type": "markdown",
   "metadata": {},
   "source": [
    "## Training\n",
    "We train the model by maximising the variational lower bound on the log marginal likelihood. We use the Adam optimiser packaged with `GPflow` for this task."
   ]
  },
  {
   "cell_type": "code",
   "execution_count": 9,
   "metadata": {},
   "outputs": [
    {
     "ename": "AttributeError",
     "evalue": "'DSDGP' object has no attribute 'compute_log_likelihood'",
     "output_type": "error",
     "traceback": [
      "\u001b[0;31m---------------------------------------------------------------------------\u001b[0m",
      "\u001b[0;31mAttributeError\u001b[0m                            Traceback (most recent call last)",
      "\u001b[0;32m<ipython-input-9-26e8f1ad90ae>\u001b[0m in \u001b[0;36m<module>\u001b[0;34m\u001b[0m\n\u001b[0;32m----> 1\u001b[0;31m \u001b[0mmodel\u001b[0m\u001b[0;34m.\u001b[0m\u001b[0mcompute_log_likelihood\u001b[0m\u001b[0;34m(\u001b[0m\u001b[0;34m)\u001b[0m\u001b[0;34m\u001b[0m\u001b[0;34m\u001b[0m\u001b[0m\n\u001b[0m",
      "\u001b[0;31mAttributeError\u001b[0m: 'DSDGP' object has no attribute 'compute_log_likelihood'"
     ]
    }
   ],
   "source": [
    "model.compute_log_likelihood()"
   ]
  },
  {
   "cell_type": "code",
   "execution_count": null,
   "metadata": {},
   "outputs": [],
   "source": [
    "opt = gpflow.train.AdamOptimizer(0.01)\n",
    "opt.minimize(model, maxiter=1000)"
   ]
  },
  {
   "cell_type": "code",
   "execution_count": null,
   "metadata": {},
   "outputs": [],
   "source": [
    "model.compute_log_likelihood()"
   ]
  },
  {
   "cell_type": "markdown",
   "metadata": {},
   "source": [
    "We can see that the bound on log marginal likelihood has increased."
   ]
  },
  {
   "cell_type": "markdown",
   "metadata": {},
   "source": [
    "## Testing\n",
    "We now test our model."
   ]
  },
  {
   "cell_type": "code",
   "execution_count": null,
   "metadata": {},
   "outputs": [],
   "source": [
    "samples, mu, sigma = model.predict_all_layers_full_cov(Xs, 10)\n",
    "plt.plot(Xs, mu[-1][:, :, 0].T, color='r', alpha=0.3)\n",
    "\n",
    "plt.title('2 layer DGP')\n",
    "plt.scatter(X, Y)\n",
    "plt.show()"
   ]
  },
  {
   "cell_type": "code",
   "execution_count": null,
   "metadata": {},
   "outputs": [],
   "source": [
    "for _ in range(10):\n",
    "    mu, sigma = model.predict_f_full_cov(Xs, 1)\n",
    "    plt.plot(Xs, mu.reshape(Xs.shape), color='r', alpha=0.2)\n",
    "    \n",
    "plt.title('DeepGP Fit')\n",
    "plt.scatter(X, Y);"
   ]
  },
  {
   "cell_type": "code",
   "execution_count": null,
   "metadata": {},
   "outputs": [],
   "source": []
  }
 ],
 "metadata": {
  "kernelspec": {
   "display_name": "Python 3",
   "language": "python",
   "name": "python3"
  },
  "language_info": {
   "codemirror_mode": {
    "name": "ipython",
    "version": 3
   },
   "file_extension": ".py",
   "mimetype": "text/x-python",
   "name": "python",
   "nbconvert_exporter": "python",
   "pygments_lexer": "ipython3",
   "version": "3.7.3"
  }
 },
 "nbformat": 4,
 "nbformat_minor": 4
}
