{
 "cells": [
  {
   "cell_type": "markdown",
   "metadata": {},
   "source": [
    "# Simple Demo: Step Function\n",
    "This example is taken (with a bit of adaption) from [here](https://github.com/ICL-SML/Doubly-Stochastic-DGP/blob/master/demos/demo_1D_regression.ipynb). The example illustrate a deepGP fit for a step function. Normal GPs with stationary kernels usually fail at this task. We start with some imports."
   ]
  },
  {
   "cell_type": "code",
   "execution_count": 1,
   "metadata": {},
   "outputs": [
    {
     "name": "stderr",
     "output_type": "stream",
     "text": [
      "/home/aboustati/miniconda3/envs/gpflow-v1/lib/python3.6/importlib/_bootstrap.py:219: RuntimeWarning: compiletime version 3.5 of module 'tensorflow.python.framework.fast_tensor_util' does not match runtime version 3.6\n",
      "  return f(*args, **kwds)\n"
     ]
    }
   ],
   "source": [
    "# useful imports\n",
    "import numpy as np\n",
    "import tensorflow as tf\n",
    "\n",
    "import matplotlib.pyplot as plt\n",
    "%matplotlib inline"
   ]
  },
  {
   "cell_type": "code",
   "execution_count": 2,
   "metadata": {},
   "outputs": [],
   "source": [
    "# dgplib imports\n",
    "from dgplib.layers import InputLayer, OutputLayer, HiddenLayer\n",
    "from dgplib.models import Sequential\n",
    "\n",
    "from dgplib import DSDGP"
   ]
  },
  {
   "cell_type": "code",
   "execution_count": 3,
   "metadata": {},
   "outputs": [],
   "source": [
    "# gpflow imports\n",
    "import gpflow\n",
    "\n",
    "from gpflow.kernels import RBF, White, Matern52\n",
    "from gpflow.likelihoods import Gaussian\n",
    "from gpflow.mean_functions import Linear"
   ]
  },
  {
   "cell_type": "markdown",
   "metadata": {},
   "source": [
    "## Data\n",
    "We start of by generating the training and test data:"
   ]
  },
  {
   "cell_type": "code",
   "execution_count": 4,
   "metadata": {},
   "outputs": [
    {
     "data": {
      "image/png": "[encoded data removed]",
      "text/plain": [
       "<matplotlib.figure.Figure at 0x7fabd4e64b38>"
      ]
     },
     "metadata": {},
     "output_type": "display_data"
    }
   ],
   "source": [
    "Ns = 300\n",
    "Xs = np.linspace(-0.5, 1.5, Ns)[:, None]\n",
    "\n",
    "N, M = 50, 25\n",
    "X = np.random.uniform(0, 1, N)[:, None]\n",
    "Z = np.random.uniform(0, 1, M)[:, None]\n",
    "f_step = lambda x: 0. if x<0.5 else 1.\n",
    "Y = np.reshape([f_step(x) for x in X], X.shape) + np.random.randn(*X.shape)*1e-2\n",
    "\n",
    "def plot_data(X, Y):\n",
    "    plt.title('Sample Dataset')\n",
    "    plt.scatter(X, Y)\n",
    "    plt.show()\n",
    "    \n",
    "plot_data(X, Y)"
   ]
  },
  {
   "cell_type": "markdown",
   "metadata": {},
   "source": [
    "## Model Construction\n",
    "We move on to constructing the model. First we initialize the layers. In this example we are using a 2-layer DGP, an input layer and an output layer."
   ]
  },
  {
   "cell_type": "code",
   "execution_count": 5,
   "metadata": {},
   "outputs": [],
   "source": [
    "# Layers\n",
    "input_layer = InputLayer(input_dim=1,\n",
    "                         output_dim=1, \n",
    "                         num_inducing=M, \n",
    "                         kernel=RBF(1, lengthscales=0.2, variance=1.)+White(1, variance=1e-5), \n",
    "                         mean_function=Linear())\n",
    "\n",
    "input_layer.q_sqrt = input_layer.q_sqrt.value * 1e-5\n",
    "\n",
    "output_layer = OutputLayer(input_dim=1, \n",
    "                           output_dim=1, \n",
    "                           num_inducing=M,\n",
    "                           kernel=RBF(1, lengthscales=0.2, variance=1.)+White(1, variance=1e-5))"
   ]
  },
  {
   "cell_type": "markdown",
   "metadata": {},
   "source": [
    "Next, we wrap the layers around a `Sequential` object. This takes care of initializing the inducing inputs when fed into the model."
   ]
  },
  {
   "cell_type": "code",
   "execution_count": 6,
   "metadata": {},
   "outputs": [],
   "source": [
    "seq = Sequential([input_layer, output_layer])"
   ]
  },
  {
   "cell_type": "markdown",
   "metadata": {},
   "source": [
    "Finally, we create and compile a model object."
   ]
  },
  {
   "cell_type": "code",
   "execution_count": 7,
   "metadata": {},
   "outputs": [
    {
     "name": "stdout",
     "output_type": "stream",
     "text": [
      "Model Parameters Initialized\n"
     ]
    }
   ],
   "source": [
    "model = DSDGP(X=X, Y=Y, Z=Z, layers=seq, likelihood=Gaussian())"
   ]
  },
  {
   "cell_type": "code",
   "execution_count": 8,
   "metadata": {},
   "outputs": [
    {
     "name": "stdout",
     "output_type": "stream",
     "text": [
      "                                                       class prior transform  \\\n",
      "DSDGP/layers/layers/item0/Z                        Parameter  None    (none)   \n",
      "DSDGP/layers/layers/item0/kernel/rbf/variance      Parameter  None       +ve   \n",
      "DSDGP/layers/layers/item0/kernel/rbf/lengthscales  Parameter  None       +ve   \n",
      "DSDGP/layers/layers/item0/kernel/white/variance    Parameter  None       +ve   \n",
      "DSDGP/layers/layers/item0/mean_function/A          Parameter  None    (none)   \n",
      "DSDGP/layers/layers/item0/mean_function/b          Parameter  None    (none)   \n",
      "DSDGP/layers/layers/item0/q_mu                     Parameter  None    (none)   \n",
      "DSDGP/layers/layers/item0/q_sqrt                   Parameter  None    (none)   \n",
      "DSDGP/layers/layers/item1/Z                        Parameter  None    (none)   \n",
      "DSDGP/layers/layers/item1/kernel/rbf/variance      Parameter  None       +ve   \n",
      "DSDGP/layers/layers/item1/kernel/rbf/lengthscales  Parameter  None       +ve   \n",
      "DSDGP/layers/layers/item1/kernel/white/variance    Parameter  None       +ve   \n",
      "DSDGP/layers/layers/item1/q_mu                     Parameter  None    (none)   \n",
      "DSDGP/layers/layers/item1/q_sqrt                   Parameter  None    (none)   \n",
      "DSDGP/likelihood/variance                          Parameter  None       +ve   \n",
      "\n",
      "                                                   trainable        shape  \\\n",
      "DSDGP/layers/layers/item0/Z                             True      (25, 1)   \n",
      "DSDGP/layers/layers/item0/kernel/rbf/variance           True           ()   \n",
      "DSDGP/layers/layers/item0/kernel/rbf/lengthscales       True           ()   \n",
      "DSDGP/layers/layers/item0/kernel/white/variance         True           ()   \n",
      "DSDGP/layers/layers/item0/mean_function/A               True       (1, 1)   \n",
      "DSDGP/layers/layers/item0/mean_function/b               True         (1,)   \n",
      "DSDGP/layers/layers/item0/q_mu                          True      (25, 1)   \n",
      "DSDGP/layers/layers/item0/q_sqrt                        True  (1, 25, 25)   \n",
      "DSDGP/layers/layers/item1/Z                             True      (25, 1)   \n",
      "DSDGP/layers/layers/item1/kernel/rbf/variance           True           ()   \n",
      "DSDGP/layers/layers/item1/kernel/rbf/lengthscales       True           ()   \n",
      "DSDGP/layers/layers/item1/kernel/white/variance         True           ()   \n",
      "DSDGP/layers/layers/item1/q_mu                          True      (25, 1)   \n",
      "DSDGP/layers/layers/item1/q_sqrt                        True  (1, 25, 25)   \n",
      "DSDGP/likelihood/variance                               True           ()   \n",
      "\n",
      "                                                   fixed_shape  \\\n",
      "DSDGP/layers/layers/item0/Z                               True   \n",
      "DSDGP/layers/layers/item0/kernel/rbf/variance             True   \n",
      "DSDGP/layers/layers/item0/kernel/rbf/lengthscales         True   \n",
      "DSDGP/layers/layers/item0/kernel/white/variance           True   \n",
      "DSDGP/layers/layers/item0/mean_function/A                 True   \n",
      "DSDGP/layers/layers/item0/mean_function/b                 True   \n",
      "DSDGP/layers/layers/item0/q_mu                            True   \n",
      "DSDGP/layers/layers/item0/q_sqrt                          True   \n",
      "DSDGP/layers/layers/item1/Z                               True   \n",
      "DSDGP/layers/layers/item1/kernel/rbf/variance             True   \n",
      "DSDGP/layers/layers/item1/kernel/rbf/lengthscales         True   \n",
      "DSDGP/layers/layers/item1/kernel/white/variance           True   \n",
      "DSDGP/layers/layers/item1/q_mu                            True   \n",
      "DSDGP/layers/layers/item1/q_sqrt                          True   \n",
      "DSDGP/likelihood/variance                                 True   \n",
      "\n",
      "                                                                                               value  \n",
      "DSDGP/layers/layers/item0/Z                        [[0.06048285016806909], [0.07588900855303338],...  \n",
      "DSDGP/layers/layers/item0/kernel/rbf/variance                                                    1.0  \n",
      "DSDGP/layers/layers/item0/kernel/rbf/lengthscales                                                0.2  \n",
      "DSDGP/layers/layers/item0/kernel/white/variance                                                1e-05  \n",
      "DSDGP/layers/layers/item0/mean_function/A                                                    [[1.0]]  \n",
      "DSDGP/layers/layers/item0/mean_function/b                                                      [0.0]  \n",
      "DSDGP/layers/layers/item0/q_mu                     [[0.0], [0.0], [0.0], [0.0], [0.0], [0.0], [0....  \n",
      "DSDGP/layers/layers/item0/q_sqrt                   [[[1e-05, 0.0, 0.0, 0.0, 0.0, 0.0, 0.0, 0.0, 0...  \n",
      "DSDGP/layers/layers/item1/Z                        [[0.06048285016806909], [0.07588900855303338],...  \n",
      "DSDGP/layers/layers/item1/kernel/rbf/variance                                                    1.0  \n",
      "DSDGP/layers/layers/item1/kernel/rbf/lengthscales                                                0.2  \n",
      "DSDGP/layers/layers/item1/kernel/white/variance                                                1e-05  \n",
      "DSDGP/layers/layers/item1/q_mu                     [[0.0], [0.0], [0.0], [0.0], [0.0], [0.0], [0....  \n",
      "DSDGP/layers/layers/item1/q_sqrt                   [[[1.0, 0.0, 0.0, 0.0, 0.0, 0.0, 0.0, 0.0, 0.0...  \n",
      "DSDGP/likelihood/variance                                                                        1.0  \n"
     ]
    },
    {
     "name": "stderr",
     "output_type": "stream",
     "text": [
      "/home/aboustati/Documents/PhD/Software/gpflow1.0/GPflow/gpflow/misc.py:30: FutureWarning: '.reindex_axis' is deprecated and will be removed in a future version. Use '.reindex' instead.\n",
      "  df = df.reindex_axis(keys, axis=1)\n"
     ]
    }
   ],
   "source": [
    "print(model)"
   ]
  },
  {
   "cell_type": "code",
   "execution_count": 9,
   "metadata": {},
   "outputs": [],
   "source": [
    "model.compile()"
   ]
  },
  {
   "cell_type": "markdown",
   "metadata": {},
   "source": [
    "## Training\n",
    "We train the model by maximising the variational lower bound on the log marginal likelihood. We use the Adam optimiser packaged with `GPflow` for this task."
   ]
  },
  {
   "cell_type": "code",
   "execution_count": 10,
   "metadata": {},
   "outputs": [
    {
     "data": {
      "text/plain": [
       "-357.2383839789025"
      ]
     },
     "execution_count": 10,
     "metadata": {},
     "output_type": "execute_result"
    }
   ],
   "source": [
    "model.compute_log_likelihood()"
   ]
  },
  {
   "cell_type": "code",
   "execution_count": 11,
   "metadata": {},
   "outputs": [],
   "source": [
    "opt = gpflow.train.AdamOptimizer(0.01)\n",
    "opt.minimize(model, maxiter=1000)"
   ]
  },
  {
   "cell_type": "code",
   "execution_count": 12,
   "metadata": {},
   "outputs": [
    {
     "data": {
      "text/plain": [
       "67.72492248545562"
      ]
     },
     "execution_count": 12,
     "metadata": {},
     "output_type": "execute_result"
    }
   ],
   "source": [
    "model.compute_log_likelihood()"
   ]
  },
  {
   "cell_type": "markdown",
   "metadata": {},
   "source": [
    "We can see that the bound on log marginal likelihood has increased."
   ]
  },
  {
   "cell_type": "markdown",
   "metadata": {},
   "source": [
    "## Testing\n",
    "We now test our model."
   ]
  },
  {
   "cell_type": "code",
   "execution_count": 13,
   "metadata": {},
   "outputs": [
    {
     "data": {
      "image/png": "[encoded data removed]",
      "text/plain": [
       "<matplotlib.figure.Figure at 0x7fabd5145e10>"
      ]
     },
     "metadata": {},
     "output_type": "display_data"
    }
   ],
   "source": [
    "for _ in range(10):\n",
    "    mu, sigma = model.predict_f(Xs, 1)\n",
    "    plt.plot(Xs, mu.reshape(Xs.shape), color='r', alpha=0.3)\n",
    "    \n",
    "plt.title('DeepGP Fit')\n",
    "plt.scatter(X, Y);"
   ]
  },
  {
   "cell_type": "code",
   "execution_count": null,
   "metadata": {},
   "outputs": [],
   "source": []
  }
 ],
 "metadata": {
  "kernelspec": {
   "display_name": "Python 3",
   "language": "python",
   "name": "python3"
  },
  "language_info": {
   "codemirror_mode": {
    "name": "ipython",
    "version": 3
   },
   "file_extension": ".py",
   "mimetype": "text/x-python",
   "name": "python",
   "nbconvert_exporter": "python",
   "pygments_lexer": "ipython3",
   "version": "3.6.4"
  }
 },
 "nbformat": 4,
 "nbformat_minor": 2
}
